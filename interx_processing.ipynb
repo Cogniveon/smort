{
 "cells": [
  {
   "cell_type": "code",
   "execution_count": 3,
   "id": "96ea2ff4-39d2-46bd-ab0b-5e1e7ad31772",
   "metadata": {},
   "outputs": [],
   "source": [
    "import torch\n",
    "import numpy as np\n",
    "from smplx import SMPLX\n",
    "from smotdm.renderer.matplotlib import MatplotlibRender\n",
    "from smotdm.utils import loop_interx\n",
    "from smotdm.rifke import joints_to_rifke, rifke_to_joints\n",
    "\n",
    "\n",
    "INTERX_DATASET_ROOT = \"deps/interx\"\n",
    "device = torch.device(\"cpu\")\n",
    "\n",
    "renderer = MatplotlibRender(jointstype=\"smplxjoints\")"
   ]
  },
  {
   "cell_type": "code",
   "execution_count": 4,
   "id": "038fbaaf-4d07-4a9e-a3c3-af376e966a50",
   "metadata": {},
   "outputs": [
    {
     "data": {
      "application/vnd.jupyter.widget-view+json": {
       "model_id": "21d2736927af40cebbb3cbf2e3c4e403",
       "version_major": 2,
       "version_minor": 0
      },
      "text/plain": [
       "  0%|          | 0/11388 [00:00<?, ?it/s]"
      ]
     },
     "metadata": {},
     "output_type": "display_data"
    },
    {
     "data": {
      "text/plain": [
       "torch.Size([2, 548, 163])"
      ]
     },
     "execution_count": 4,
     "metadata": {},
     "output_type": "execute_result"
    }
   ],
   "source": [
    "iterator = loop_interx(INTERX_DATASET_ROOT)\n",
    "\n",
    "\n",
    "for scene_id, num_frames, motions, texts in iterator:\n",
    "    smplx_model = SMPLX(\n",
    "        model_path=\"deps/smplx/SMPLX_NEUTRAL.npz\",\n",
    "        batch_size=num_frames,\n",
    "        num_betas=10,\n",
    "        use_pca=False,\n",
    "        use_face_contour=True,\n",
    "    )\n",
    "    # joints[..., 0] *= -1\n",
    "    # joints_m = swap_left_right(joints)\n",
    "\n",
    "    feats = []\n",
    "    for motion in motions:\n",
    "        output = smplx_model(\n",
    "            **motion,\n",
    "            return_full_pose=True,\n",
    "        )\n",
    "        # XZY -> XYZ\n",
    "        joints = torch.from_numpy(\n",
    "            np.dot(\n",
    "                output.joints.detach().cpu().numpy(),\n",
    "                np.array([[1.0, 0.0, 0.0], [0.0, 0.0, 1.0], [0.0, 1.0, 0.0]]),\n",
    "            )\n",
    "        )\n",
    "\n",
    "        feats.append(joints_to_rifke(joints[:, : smplx_model.NUM_JOINTS, :]))\n",
    "    scene_motions = torch.stack(feats)\n",
    "    break\n",
    "\n",
    "scene_motions.shape"
   ]
  },
  {
   "cell_type": "code",
   "execution_count": 5,
   "id": "a0c556c5",
   "metadata": {},
   "outputs": [
    {
     "data": {
      "text/plain": [
       "[\"Two people stand face to face. One person extends his/her left hand to shake the other person's right hand, and then he/she extends his/her right hand to hold both of the other person's hands.\",\n",
       " 'The two people stand face to face and shake hands with their right hand at first, then proceed to use both hands for a warmer handshake.',\n",
       " 'One person approaches the other person and they exchange a firm handshake, using both hands.']"
      ]
     },
     "execution_count": 5,
     "metadata": {},
     "output_type": "execute_result"
    }
   ],
   "source": [
    "texts"
   ]
  },
  {
   "cell_type": "code",
   "execution_count": 6,
   "id": "b7f20b57",
   "metadata": {},
   "outputs": [],
   "source": [
    "import h5py\n",
    "\n",
    "d = h5py.File(\"t.h5\", \"w\")\n",
    "d.create_dataset(\"123\", data=scene_motions[:, :num_frames, :].detach().cpu().numpy())\n",
    "d.close()"
   ]
  },
  {
   "cell_type": "code",
   "execution_count": 7,
   "id": "e197598e-be9c-4a49-867e-d3cf0438c6e9",
   "metadata": {},
   "outputs": [],
   "source": [
    "renderer(\n",
    "    rifke_to_joints(scene_motions[0]).detach().cpu().numpy(),\n",
    "    rifke_to_joints(scene_motions[1]).detach().cpu().numpy(),\n",
    "    output=\"test.mp4\",\n",
    ")"
   ]
  }
 ],
 "metadata": {
  "kernelspec": {
   "display_name": "Python 3 (ipykernel)",
   "language": "python",
   "name": "python3"
  },
  "language_info": {
   "codemirror_mode": {
    "name": "ipython",
    "version": 3
   },
   "file_extension": ".py",
   "mimetype": "text/x-python",
   "name": "python",
   "nbconvert_exporter": "python",
   "pygments_lexer": "ipython3",
   "version": "3.11.9"
  }
 },
 "nbformat": 4,
 "nbformat_minor": 5
}
