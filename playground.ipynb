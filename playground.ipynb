{
 "cells": [
  {
   "cell_type": "code",
   "execution_count": 1,
   "id": "ec15389d",
   "metadata": {},
   "outputs": [],
   "source": [
    "import torch\n",
    "import random\n",
    "from torch.utils.data import DataLoader\n",
    "from smort.data.text_motion_dataset import TextMotionDataset\n",
    "from smort.data.data_module import InterXDataModule\n",
    "\n",
    "from smort.models.smort import SMORT\n",
    "from smort.rifke import feats_to_joints\n",
    "from smort.data.collate import length_to_mask\n",
    "from smort.models.text_encoder import TextToEmb"
   ]
  },
  {
   "cell_type": "code",
   "execution_count": 2,
   "id": "50a73729",
   "metadata": {},
   "outputs": [],
   "source": [
    "text_motion_dataset = TextMotionDataset(\n",
    "    \"deps/interx/processed/dataset.h5\",\n",
    ")\n",
    "train_dataloader = DataLoader(\n",
    "    text_motion_dataset,\n",
    "    batch_size=1,\n",
    "    collate_fn=text_motion_dataset.collate_fn,\n",
    "    shuffle=True,\n",
    "    # num_workers=7,\n",
    "    # persistent_workers=True,\n",
    ")\n",
    "\n",
    "data_module = InterXDataModule(\n",
    "    \"deps/interx/processed/dataset.h5\",\n",
    "    batch_size=1,\n",
    "    num_workers=1,\n",
    "    use_tiny=True,\n",
    "    return_scene=True,\n",
    ")\n",
    "data_module.setup(\"train\")\n",
    "\n",
    "# next(iter(train_dataloader))"
   ]
  },
  {
   "cell_type": "code",
   "execution_count": 3,
   "id": "7fe1a48b",
   "metadata": {},
   "outputs": [],
   "source": [
    "# mean, std = text_motion_dataset.get_mean_std()\n",
    "# assert type(mean) == torch.Tensor and type(std) == torch.Tensor\n",
    "# model = SMORT(mean, std)\n",
    "\n",
    "# trainer = Trainer(\n",
    "#     accelerator=\"cpu\", max_epochs=10, fast_dev_run=False, num_sanity_val_steps=0\n",
    "# )\n",
    "\n",
    "# trainer.fit(model, data_module)"
   ]
  },
  {
   "cell_type": "code",
   "execution_count": 4,
   "id": "f53c1a21",
   "metadata": {},
   "outputs": [],
   "source": [
    "# import wandb\n",
    "\n",
    "# run = wandb.init()\n",
    "# artifact = run.use_artifact(\"rohit-k-kesavan/smort/model-df4n45vn:v0\", type=\"model\")\n",
    "# artifact_dir = artifact.download()"
   ]
  },
  {
   "cell_type": "code",
   "execution_count": 22,
   "id": "ecd43727",
   "metadata": {},
   "outputs": [
    {
     "name": "stdout",
     "output_type": "stream",
     "text": [
      "Scene: 165\n"
     ]
    }
   ],
   "source": [
    "mean, std = text_motion_dataset.get_mean_std()\n",
    "scene_idx = random.randint(0, 2000)\n",
    "print(f\"Scene: {scene_idx}\")\n",
    "# success: 227, 127\n",
    "# success: 430, 1726, 253, 642, 424, 1676, 982\n",
    "# failure: 277, 1155, 292, 613\n",
    "sample = data_module.dataset.collate_fn([data_module.get_scene(scene_idx)])\n",
    "model = SMORT.load_from_checkpoint(\n",
    "    \"artifacts/model-df4n45vn:v0/model.ckpt\",\n",
    "    data_mean=mean,\n",
    "    data_std=std,\n",
    ")\n",
    "\n",
    "encoded = model.motion_encoder(sample[\"actor_x_dict\"])\n",
    "\n",
    "dists = encoded.unbind(1)\n",
    "mu, logvar = dists\n",
    "latent_vectors = mu\n",
    "motion = text_motion_dataset.reverse_norm(\n",
    "    model.motion_decoder(\n",
    "        {\n",
    "            \"z\": latent_vectors,\n",
    "            \"mask\": sample[\"reactor_x_dict\"][\"mask\"],\n",
    "        },\n",
    "        sample[\"actor_x_dict\"],\n",
    "    ).squeeze(dim=0)\n",
    ")\n",
    "\n",
    "from smort.renderer.matplotlib import SceneRenderer\n",
    "\n",
    "SceneRenderer().render_animation(\n",
    "    [\n",
    "        feats_to_joints(torch.from_numpy(motion)),\n",
    "        feats_to_joints(\n",
    "            torch.from_numpy(\n",
    "                text_motion_dataset.reverse_norm(sample[\"actor_x_dict\"][\"x\"][0])\n",
    "            )\n",
    "        ),\n",
    "    ]\n",
    ")\n",
    "SceneRenderer().render_animation(\n",
    "    [\n",
    "        feats_to_joints(\n",
    "            torch.from_numpy(\n",
    "                text_motion_dataset.reverse_norm(sample[\"reactor_x_dict\"][\"x\"][0])\n",
    "            )\n",
    "        ),\n",
    "        feats_to_joints(\n",
    "            torch.from_numpy(\n",
    "                text_motion_dataset.reverse_norm(sample[\"actor_x_dict\"][\"x\"][0])\n",
    "            )\n",
    "        ),\n",
    "    ]\n",
    ")"
   ]
  }
 ],
 "metadata": {
  "kernelspec": {
   "display_name": "Python 3 (ipykernel)",
   "language": "python",
   "name": "python3"
  },
  "language_info": {
   "codemirror_mode": {
    "name": "ipython",
    "version": 3
   },
   "file_extension": ".py",
   "mimetype": "text/x-python",
   "name": "python",
   "nbconvert_exporter": "python",
   "pygments_lexer": "ipython3",
   "version": "3.11.9"
  }
 },
 "nbformat": 4,
 "nbformat_minor": 5
}
