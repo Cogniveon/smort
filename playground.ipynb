{
 "cells": [
  {
   "cell_type": "code",
   "execution_count": 1,
   "id": "ec15389d",
   "metadata": {},
   "outputs": [],
   "source": [
    "from pytorch_lightning import Trainer\n",
    "from torch.utils.data import DataLoader\n",
    "from smotdm.data.text_motion_dataset import TextMotionDataset\n",
    "from smotdm.models.smotdm import SMOTDM"
   ]
  },
  {
   "cell_type": "code",
   "execution_count": 2,
   "id": "50a73729",
   "metadata": {},
   "outputs": [],
   "source": [
    "text_motion_dataset = TextMotionDataset(\n",
    "    \"deps/interx/dataset_med.h5\",\n",
    ")\n",
    "train_dataloader = DataLoader(\n",
    "    text_motion_dataset,\n",
    "    batch_size=1,\n",
    "    collate_fn=text_motion_dataset.collate_fn,\n",
    "    shuffle=True,\n",
    "    num_workers=7,\n",
    ")\n",
    "\n",
    "# next(iter(train_dataloader))"
   ]
  },
  {
   "cell_type": "code",
   "execution_count": 3,
   "id": "7fe1a48b",
   "metadata": {},
   "outputs": [
    {
     "name": "stderr",
     "output_type": "stream",
     "text": [
      "GPU available: True (mps), used: True\n",
      "TPU available: False, using: 0 TPU cores\n",
      "HPU available: False, using: 0 HPUs\n",
      "/Users/cogniveon/src/uos/smotdm/.venv/lib/python3.11/site-packages/pytorch_lightning/trainer/connectors/logger_connector/logger_connector.py:75: Starting from v1.9.0, `tensorboardX` has been removed as a dependency of the `pytorch_lightning` package, due to potential conflicts with other packages in the ML ecosystem. For this reason, `logger=True` will use `CSVLogger` as the default logger, unless the `tensorboard` or `tensorboardX` packages are found. Please `pip install lightning[extra]` or one of them to enable TensorBoard support by default\n",
      "/Users/cogniveon/src/uos/smotdm/.venv/lib/python3.11/site-packages/pytorch_lightning/trainer/configuration_validator.py:70: You defined a `validation_step` but have no `val_dataloader`. Skipping val loop.\n",
      "\n",
      "  | Name                   | Type              | Params | Mode \n",
      "---------------------------------------------------------------------\n",
      "0 | motion_encoder         | ACTORStyleEncoder | 4.8 M  | train\n",
      "1 | text_encoder           | ACTORStyleEncoder | 4.9 M  | train\n",
      "2 | actor_encoder          | ACTORStyleEncoder | 4.8 M  | train\n",
      "3 | motion_decoder         | ACTORStyleDecoder | 6.4 M  | train\n",
      "4 | reconstruction_loss_fn | SmoothL1Loss      | 0      | train\n",
      "5 | latent_loss_fn         | SmoothL1Loss      | 0      | train\n",
      "---------------------------------------------------------------------\n",
      "20.9 M    Trainable params\n",
      "0         Non-trainable params\n",
      "20.9 M    Total params\n",
      "83.452    Total estimated model params size (MB)\n",
      "290       Modules in train mode\n",
      "0         Modules in eval mode\n",
      "/Users/cogniveon/src/uos/smotdm/.venv/lib/python3.11/site-packages/pytorch_lightning/trainer/connectors/data_connector.py:419: Consider setting `persistent_workers=True` in 'train_dataloader' to speed up the dataloader worker initialization.\n"
     ]
    },
    {
     "data": {
      "application/vnd.jupyter.widget-view+json": {
       "model_id": "72be61bfa9ef45d292e843839d9639a5",
       "version_major": 2,
       "version_minor": 0
      },
      "text/plain": [
       "Training: |          | 0/? [00:00<?, ?it/s]"
      ]
     },
     "metadata": {},
     "output_type": "display_data"
    }
   ],
   "source": [
    "model = SMOTDM(\n",
    "    vae=True,\n",
    ")\n",
    "\n",
    "trainer = Trainer(max_epochs=5)\n",
    "\n",
    "trainer.fit(model, train_dataloader)"
   ]
  },
  {
   "cell_type": "code",
   "execution_count": null,
   "id": "ecd43727",
   "metadata": {},
   "outputs": [],
   "source": [
    "# text_embeds = TextToEmb(\"distilbert/distilbert-base-uncased\")(\n",
    "#     [\n",
    "#         \"Two people walk towards each other. After they meet, the first person hugs the second person around the shoulders, gently patting his/her back with his/her right hand. Meanwhile, the second person puts his/her arms around the first person's waist and pats his/her waist with his/her right hand.\"\n",
    "#     ]\n",
    "# )\n",
    "# model.text_encoder(collate_x_dict(text_embeds[\"x\"]))"
   ]
  }
 ],
 "metadata": {
  "kernelspec": {
   "display_name": "Python 3 (ipykernel)",
   "language": "python",
   "name": "python3"
  },
  "language_info": {
   "codemirror_mode": {
    "name": "ipython",
    "version": 3
   },
   "file_extension": ".py",
   "mimetype": "text/x-python",
   "name": "python",
   "nbconvert_exporter": "python",
   "pygments_lexer": "ipython3",
   "version": "3.11.9"
  }
 },
 "nbformat": 4,
 "nbformat_minor": 5
}
