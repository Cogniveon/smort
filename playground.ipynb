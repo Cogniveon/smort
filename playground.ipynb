{
 "cells": [
  {
   "cell_type": "code",
   "execution_count": null,
   "id": "ec15389d",
   "metadata": {},
   "outputs": [],
   "source": [
    "from pytorch_lightning import Trainer\n",
    "from torch.utils.data import DataLoader\n",
    "from smotdm.data.text_motion_dataset import TextMotionDataset\n",
    "from smotdm.models.smotdm import SMOTDM\n",
    "from smotdm.data.collate import collate_x_dict\n",
    "from smotdm.models.text_encoder import TextToEmb"
   ]
  },
  {
   "cell_type": "code",
   "execution_count": null,
   "id": "50a73729",
   "metadata": {},
   "outputs": [],
   "source": [
    "text_motion_dataset = TextMotionDataset(\n",
    "    \"deps/interx/dataset.h5\",\n",
    ")\n",
    "train_dataloader = DataLoader(\n",
    "    text_motion_dataset,\n",
    "    batch_size=1,\n",
    "    collate_fn=text_motion_dataset.collate_fn,\n",
    "    shuffle=True,\n",
    ")\n",
    "\n",
    "# next(iter(train_dataloader))"
   ]
  },
  {
   "cell_type": "code",
   "execution_count": null,
   "id": "7fe1a48b",
   "metadata": {},
   "outputs": [],
   "source": [
    "model = SMOTDM(\n",
    "    vae=True,\n",
    ")\n",
    "\n",
    "Trainer(max_epochs=5).fit(model, train_dataloader)"
   ]
  },
  {
   "cell_type": "code",
   "execution_count": null,
   "id": "ecd43727",
   "metadata": {},
   "outputs": [],
   "source": [
    "text_embeds = TextToEmb(\"distilbert/distilbert-base-uncased\")(\n",
    "    [\n",
    "        \"Two people walk towards each other. After they meet, the first person hugs the second person around the shoulders, gently patting his/her back with his/her right hand. Meanwhile, the second person puts his/her arms around the first person's waist and pats his/her waist with his/her right hand.\"\n",
    "    ]\n",
    ")\n",
    "model.text_encoder(collate_x_dict(text_embeds[\"x\"]))"
   ]
  }
 ],
 "metadata": {
  "kernelspec": {
   "display_name": "Python 3 (ipykernel)",
   "language": "python",
   "name": "python3"
  },
  "language_info": {
   "codemirror_mode": {
    "name": "ipython",
    "version": 3
   },
   "file_extension": ".py",
   "mimetype": "text/x-python",
   "name": "python",
   "nbconvert_exporter": "python",
   "pygments_lexer": "ipython3",
   "version": "3.11.9"
  }
 },
 "nbformat": 4,
 "nbformat_minor": 5
}
