{
 "cells": [
  {
   "cell_type": "code",
   "execution_count": null,
   "id": "ec15389d",
   "metadata": {},
   "outputs": [],
   "source": [
    "import torch\n",
    "from pytorch_lightning import Trainer\n",
    "from torch.utils.data import DataLoader\n",
    "from smort.data.text_motion_dataset import TextMotionDataset\n",
    "from smort.models.smort import SMORT\n",
    "from smort.renderer.matplotlib import SingleMotionRenderer\n",
    "from smort.rifke import feats_to_joints\n",
    "from smort.data.collate import length_to_mask\n",
    "from smort.models.text_encoder import TextToEmb"
   ]
  },
  {
   "cell_type": "code",
   "execution_count": null,
   "id": "50a73729",
   "metadata": {},
   "outputs": [],
   "source": [
    "from smort.data.data_module import InterXDataModule\n",
    "\n",
    "\n",
    "text_motion_dataset = TextMotionDataset(\n",
    "    \"deps/interx/processed/dataset_2k.h5\",\n",
    ")\n",
    "train_dataloader = DataLoader(\n",
    "    text_motion_dataset,\n",
    "    batch_size=1,\n",
    "    collate_fn=text_motion_dataset.collate_fn,\n",
    "    shuffle=True,\n",
    "    # num_workers=7,\n",
    "    # persistent_workers=True,\n",
    ")\n",
    "\n",
    "data_module = InterXDataModule(\n",
    "    \"deps/interx/processed/dataset_2k.h5\",\n",
    "    batch_size=1,\n",
    "    num_workers=1,\n",
    "    use_tiny=True,\n",
    "    return_scene=True,\n",
    ")\n",
    "\n",
    "# next(iter(train_dataloader))"
   ]
  },
  {
   "cell_type": "code",
   "execution_count": null,
   "id": "7fe1a48b",
   "metadata": {},
   "outputs": [],
   "source": [
    "mean, std = text_motion_dataset.get_mean_std()\n",
    "assert type(mean) == torch.Tensor and type(std) == torch.Tensor\n",
    "model = SMORT(mean, std)\n",
    "\n",
    "trainer = Trainer(\n",
    "    accelerator=\"cpu\", max_epochs=10, fast_dev_run=False, num_sanity_val_steps=0\n",
    ")\n",
    "\n",
    "trainer.fit(model, data_module)"
   ]
  },
  {
   "cell_type": "code",
   "execution_count": null,
   "id": "ecd43727",
   "metadata": {},
   "outputs": [],
   "source": [
    "# # model = SMORT.load_from_checkpoint(\n",
    "# #     \"lightning_logs/version_21/checkpoints/epoch=11-step=1200.ckpt\",\n",
    "# # )\n",
    "# text_embeds = TextToEmb(\n",
    "#     \"distilbert/distilbert-base-uncased\",\n",
    "#     device=model.device,\n",
    "# )(\n",
    "#     [\n",
    "#         \"Two people walk towards each other. \"\n",
    "#         \"After they meet, the first person hugs the second person around the \"\n",
    "#         \"shoulders, gently patting his/her back with his/her right hand. \"\n",
    "#         \"Meanwhile, the second person puts his/her arms around the first \"\n",
    "#         \"person's waist and pats his/her waist with his/her right hand.\"\n",
    "#     ]\n",
    "# )\n",
    "# # text_embeds\n",
    "\n",
    "# mask = length_to_mask(text_embeds[\"length\"], device=model.device)\n",
    "# encoded = model.text_encoder(\n",
    "#     {\n",
    "#         \"x\": text_embeds[\"x\"],\n",
    "#         \"mask\": mask,\n",
    "#     }\n",
    "# )\n",
    "\n",
    "# dists = encoded.unbind(1)\n",
    "# mu, logvar = dists\n",
    "# latent_vectors = mu\n",
    "# motion = text_motion_dataset.reverse_norm(\n",
    "#     model.motion_decoder(\n",
    "#         {\n",
    "#             \"z\": latent_vectors,\n",
    "#             \"mask\": mask,\n",
    "#         }\n",
    "#     ).squeeze(dim=0)\n",
    "# )\n",
    "\n",
    "# renderer = SingleMotionRenderer(\n",
    "#     colors=(\"red\", \"red\", \"red\", \"red\", \"red\"),\n",
    "# )\n",
    "\n",
    "# renderer.render_animation_single(\n",
    "#     feats_to_joints(torch.from_numpy(motion)).detach().cpu().numpy()\n",
    "# )"
   ]
  }
 ],
 "metadata": {
  "kernelspec": {
   "display_name": "Python 3 (ipykernel)",
   "language": "python",
   "name": "python3"
  },
  "language_info": {
   "codemirror_mode": {
    "name": "ipython",
    "version": 3
   },
   "file_extension": ".py",
   "mimetype": "text/x-python",
   "name": "python",
   "nbconvert_exporter": "python",
   "pygments_lexer": "ipython3",
   "version": "3.11.9"
  }
 },
 "nbformat": 4,
 "nbformat_minor": 5
}
